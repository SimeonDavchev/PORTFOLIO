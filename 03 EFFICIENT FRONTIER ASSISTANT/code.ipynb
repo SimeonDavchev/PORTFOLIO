{
 "cells": [
  {
   "cell_type": "markdown",
   "metadata": {},
   "source": [
    "\n",
    "### Overview:\n",
    "\n",
    "This notebook aims to help users combine their investment portfolio with a risk-free asset to determine the optimal allocation. It provides both a demo mode with preset values and an interactive mode where users can input their own parameters. The process involves fetching stock price data, calculating portfolio metrics, optimizing the asset weights to maximize the Sharpe ratio, and allowing the user to specify targets for either volatility or return. The final output is a breakdown of the optimal portfolio composition.\n"
   ]
  },
  {
   "cell_type": "markdown",
   "metadata": {},
   "source": [
    "## Part I: Initial Setup"
   ]
  },
  {
   "cell_type": "markdown",
   "metadata": {},
   "source": [
    "System initialisation"
   ]
  },
  {
   "cell_type": "code",
   "execution_count": 1,
   "metadata": {},
   "outputs": [],
   "source": [
    "import numpy as np\n",
    "import datetime as dt\n",
    "import pandas as pd\n",
    "from pandas_datareader import data as pdr\n",
    "import yfinance as yfin\n",
    "from scipy.optimize import minimize\n",
    "import matplotlib.pyplot as plt\n",
    "import warnings"
   ]
  },
  {
   "cell_type": "markdown",
   "metadata": {},
   "source": [
    "Determine if we will be working in demo or interactive mode."
   ]
  },
  {
   "cell_type": "code",
   "execution_count": 2,
   "metadata": {},
   "outputs": [
    {
     "name": "stdout",
     "output_type": "stream",
     "text": [
      "Demo mode is on\n"
     ]
    }
   ],
   "source": [
    "is_demo= input(\"Is this a demo? If yes it won't ask you for inputs everything will be preset, otherwise it will be interactive. (y/n)\")\n",
    "while is_demo not in [\"y\", \"n\"]:\n",
    "    is_demo = input(\"Please enter y or n: \")\n",
    "\n",
    "is_demo = True if is_demo == \"y\" else False \n",
    "is_demo: print(\"Demo mode is on\") if is_demo else print(\"Interactive mode is off\")"
   ]
  },
  {
   "cell_type": "markdown",
   "metadata": {},
   "source": [
    "Input of inital data: prompt user for initialisation data like risk-free rate, budget etc.\n"
   ]
  },
  {
   "cell_type": "code",
   "execution_count": 3,
   "metadata": {},
   "outputs": [
    {
     "name": "stdout",
     "output_type": "stream",
     "text": [
      "Risk free rate: 2.0%\n",
      "Budget: 100000 USD\n",
      "Demo dates chosen\n",
      "Full SP500 list of stocks chosen\n"
     ]
    }
   ],
   "source": [
    "if is_demo:\n",
    "    risk_free_rate = 0.02\n",
    "    print(f\"Risk free rate: {risk_free_rate*100}%\")\n",
    "    budget = 100000\n",
    "    print(f\"Budget: {round(budget,2)} USD\")\n",
    "    end_date = dt.datetime.now()\n",
    "    start_date = end_date - dt.timedelta(days=365)\n",
    "    print('Demo dates chosen')\n",
    "else:\n",
    "    risk_free_rate = float(input(\"Enter the risk free rate in %: \"))/100\n",
    "    print(f\"Risk free rate: {risk_free_rate*100}%\")\n",
    "    budget = float(input(\"Enter the budget in USD: \"))\n",
    "    print(f\"Budget: {round(budget,2)} USD\")\n",
    "    end_date = dt.datetime.now()\n",
    "    days_back = int(input(\"Enter the number of days back to start the analysis: \"))\n",
    "    start_date = end_date - dt.timedelta(days=days_back)\n",
    "    print(f'Custom dates chosen. Go back {days_back} days from today')\n",
    "\n",
    "\n",
    "if is_demo:\n",
    "    prompt = \"2\"\n",
    "else:\n",
    "    prompt = input(\"Do you want to use the full S&P500 (1), default partial list (2) or a custom list (3)? \\n NOTE: The full will take a while to run.\\n\")\n",
    "    while prompt not in [\"1\", \"2\", \"3\"]:\n",
    "        prompt = input(\"Please enter 1, 2 or 3: \")\n",
    "\n",
    "\n",
    "if prompt == \"2\":\n",
    "    ticker_list = ['AAPL', 'MSFT', 'AMZN', 'GOOG', 'TSLA', 'BRK-A', 'V', 'JPM', 'JNJ', \n",
    "               'WMT', 'PG', 'NVDA', 'MA', 'HD', 'UNH', 'DIS', 'BAC', 'PYPL', 'VZ', \n",
    "               'CMCSA', 'KO', 'NFLX', 'XOM', 'CVX', 'INTC', 'CSCO', 'PFE', 'ADBE', 'NKE', \n",
    "               'ABT', 'C', 'TMO', 'MRK', 'CRM', 'MA', 'TSM', 'MMM', 'BA', 'PEP', 'MCD', \n",
    "               'HON', 'ACN', 'WFC', 'BA', 'COST', 'BMY', 'SBUX', 'IBM', 'ORCL']\n",
    "    print('Demo list of stocks chosen')\n",
    "elif prompt == \"1\":\n",
    "    ticker_list=list(pd.read_csv('SP500_tickers.csv',header=None)[0])\n",
    "    print('Full SP500 list of stocks chosen')\n",
    "else:\n",
    "    tickers = input(\"Please enter a list of tickers separated by commas: \").split(\",\")\n",
    "    print('Custom list of stocks chosen')\n"
   ]
  },
  {
   "cell_type": "markdown",
   "metadata": {},
   "source": [
    "## Part II: Function Setup "
   ]
  },
  {
   "cell_type": "markdown",
   "metadata": {},
   "source": [
    "Information fetching function "
   ]
  },
  {
   "cell_type": "code",
   "execution_count": 4,
   "metadata": {},
   "outputs": [],
   "source": [
    "def get_data(tickers, start_date, end_date):\n",
    "    '''\n",
    "    Get closing price for given tickers from Yahoo Finance. \n",
    "    Ouput is a table with mean and covariance matrix\n",
    "    '''\n",
    "    print(\"Getting data from Yahoo Finance...\")\n",
    "    yfin.pdr_override() #solves the problem with pdr.get_data_yahoo\n",
    "    prices= pdr.get_data_yahoo(tickers, start=start_date, end=end_date)[\"Close\"]\n",
    "    prices=prices.dropna(axis=1) #drop columns with NaN values\n",
    "    data= prices.pct_change() #this gets returns on closing price\n",
    "    mean_returns=data.mean()\n",
    "    cov_matrix=data.cov()\n",
    "    return mean_returns, cov_matrix, prices.tail(1)"
   ]
  },
  {
   "cell_type": "markdown",
   "metadata": {},
   "source": [
    "Define functions to provide metrics that will be optimised"
   ]
  },
  {
   "cell_type": "code",
   "execution_count": 5,
   "metadata": {},
   "outputs": [],
   "source": [
    "def portofolio_metrics(weights, mean_returns, cov_matrix):\n",
    "    '''\n",
    "    calculate the returns and volatility of a portfolio given weights\n",
    "    '''\n",
    "    returns=np.sum(mean_returns*weights)*252\n",
    "    std=np.sqrt(np.dot(weights.T, np.dot(cov_matrix, weights)))*np.sqrt(252)\n",
    "    return returns, std\n",
    "\n",
    "def negative_sr(weights, mean_returns, cov_matrix, risk_free_rate=0):\n",
    "    '''\n",
    "    Function to be minimised for the maximisation of the sharpe ratio\n",
    "    '''\n",
    "    p_ret, p_std = portofolio_metrics(weights, mean_returns, cov_matrix)\n",
    "    return -(p_ret - risk_free_rate) / p_std\n",
    "\n",
    "def volatility(weights, mean_returns, cov_matrix):\n",
    "    '''\n",
    "    Function to be minimised for the minimisation of the volatility\n",
    "    '''\n",
    "    return portofolio_metrics(weights, mean_returns, cov_matrix)[1]"
   ]
  },
  {
   "cell_type": "markdown",
   "metadata": {},
   "source": [
    "Define optimisation functions "
   ]
  },
  {
   "cell_type": "code",
   "execution_count": 6,
   "metadata": {},
   "outputs": [],
   "source": [
    "# Use Scipy to optimize the weights thorough fpr the maximisation of the sharpe ratio\n",
    "def maximise_sr(mean_returns, cov_matrix, risk_free_rate=risk_free_rate, constraint_set=(0,1)):\n",
    "    '''\n",
    "    Maximise the sharpe ratio by altering weights\n",
    "    '''\n",
    "    num_assets = len(mean_returns)\n",
    "    args = (mean_returns, cov_matrix, risk_free_rate)\n",
    "    constraints = ({'type': 'eq', 'fun': lambda x: np.sum(x) - 1})\n",
    "    bound = constraint_set\n",
    "    bounds = tuple(bound for asset in range(num_assets))\n",
    "    result = minimize(negative_sr, num_assets*[1./num_assets], args=args, method='SLSQP',bounds=bounds, constraints=constraints)\n",
    "    #print(\"Maximium Sharpe Ratio: \", result['fun'], \"\\nWeights: \", result['x'])\n",
    "    return result['fun'], result['x']\n",
    "\n",
    "#Given a target return, find the weights that give the lowest volatility\n",
    "def target_portfolio(mean_returns, cov_matrix, target_return, constraint_set=(0,1)):\n",
    "    '''\n",
    "    Given a target return, find the weights that give the lowest volatility\n",
    "    '''\n",
    "    num_assets = len(mean_returns)\n",
    "    args = (mean_returns, cov_matrix)\n",
    "    constraints = ({'type': 'eq', 'fun': lambda x: portofolio_metrics(x, mean_returns, cov_matrix)[0] - target_return},\n",
    "                   {'type': 'eq', 'fun': lambda x: np.sum(x) - 1})\n",
    "    bound = constraint_set\n",
    "    bounds = tuple(bound for asset in range(num_assets))\n",
    "    result = minimize(volatility, num_assets*[1./num_assets], args=args, method='SLSQP', bounds=bounds, constraints=constraints)\n",
    "    #print(\"Target Portfolio Volatility: \", result['fun'], \"\\nWeights: \", result['x'])\n",
    "    return result['fun'], result['x']\n",
    "\n",
    "#Create a function to give a list for the efficient frontier\n",
    "def efficient_frontier(mean_returns, cov_matrix, max_sr_return, constraint_set=(0,1)):\n",
    "        '''\n",
    "        Create a list of weights for the efficient frontier\n",
    "        '''\n",
    "        frontier_y = np.linspace(0, max_sr_return*2, 40)\n",
    "        frontier_x = []\n",
    "        for possible_return in frontier_y:\n",
    "            frontier_x.append(target_portfolio(mean_returns, cov_matrix, possible_return, constraint_set=(0,1))[0])\n",
    "        return frontier_x, frontier_y\n",
    "\n"
   ]
  },
  {
   "cell_type": "markdown",
   "metadata": {},
   "source": [
    "Define a function that will combine it all and give nice output "
   ]
  },
  {
   "cell_type": "code",
   "execution_count": 7,
   "metadata": {},
   "outputs": [],
   "source": [
    "# Output with a table and a graph\n",
    "def table_output(mean_returns, cov_matrix, risk_free_rate=0, constraint_set=(0,1), target_return=-0.01):\n",
    "    '''\n",
    "    Output the results in a table\n",
    "    '''\n",
    "    warnings.filterwarnings(\"ignore\")\n",
    "    print('Processing data...')\n",
    "    #for the maximisation of the sharpe ratio\n",
    "    max_sr, max_weights = maximise_sr(mean_returns, cov_matrix, risk_free_rate, constraint_set)\n",
    "    max_sr_returns, max_sr_volatility = portofolio_metrics(max_weights, mean_returns, cov_matrix)\n",
    "    df_sr=pd.DataFrame(max_weights, index=mean_returns.index, columns=['Weights'])\n",
    "    df_sr.Weights=[round(100*weight,2) for weight in df_sr.Weights]\n",
    "    df_sr.drop(df_sr[df_sr['Weights'] < 0.000001].index, inplace = True)\n",
    "\n",
    "    #we will later need the price of the max_sr portfolio\n",
    "    max_sr_price=prices.tail(1).dot(max_weights)\n",
    "    \n",
    "    #to create a list with all points on efficient frontier\n",
    "    ef_x, ef_y = efficient_frontier(mean_returns, cov_matrix, max_sr_returns)\n",
    "    \n",
    "    #print the results for the maximum Sharpe Ration and the Minimum Volatility Portfolios\n",
    "    print(\"\\n\\nMaximimum Sharpe Ratio Portfolio\")\n",
    "    print(\"Expected annualised return: \", round(100*max_sr_returns,2), \"%\")\n",
    "    print(\"Expected annualised volatility: \", round(100*max_sr_volatility,2), \"%\")\n",
    "    print(\"Price of the portfolio: \", round(max_sr_price[0],2), \"USD\")\n",
    "    print(df_sr)\n",
    "    \n",
    "    \n",
    "    #Add the CML line\n",
    "    x_vol= np.linspace(min(ef_x)*.6, .4, 10)\n",
    "    slope= (max_sr_returns-risk_free_rate)/max_sr_volatility\n",
    "    y_ret= risk_free_rate + x_vol*slope\n",
    "\n",
    "    #plot the results\n",
    "    fig, ax = plt.subplots(figsize=(10, 6))\n",
    "    ax.plot(ef_x, ef_y, linestyle='--', color='black')\n",
    "    ax.plot(x_vol, y_ret, linestyle='-', color='black')\n",
    "    ax.plot(max_sr_volatility, max_sr_returns, marker='o', color='red')\n",
    "    plt.xlim(min(ef_x)*.6, .40)\n",
    "    plt.title('Efficient Frontier with CML')\n",
    "    plt.xlabel('Annualised Volatility')\n",
    "    plt.ylabel('Annualised Returns')\n",
    "    plt.legend(['Efficient Frontier', 'Capital Market Line', 'Maximum Sharpe Ratio'], loc='lower right')\n",
    "    plt.grid(True)\n",
    "    plt.show()\n",
    "\n",
    "    #give an overview of possible portfolios\n",
    "    print(\"\\n\\nExamples of possible combinations:\")\n",
    "    x_vol= np.linspace(0,40,17)\n",
    "    y_ret= risk_free_rate + x_vol*slope\n",
    "    df_example=pd.DataFrame({'Annualised Volatility (%)': x_vol, 'Annualised Returns (%)': np.round(y_ret,2)})\n",
    "    print(df_example)\n",
    "    \n",
    "\n",
    "    return max_sr_returns, slope, max_sr_price, df_sr"
   ]
  },
  {
   "cell_type": "markdown",
   "metadata": {},
   "source": [
    "## Part III: Output"
   ]
  },
  {
   "cell_type": "markdown",
   "metadata": {},
   "source": [
    "Fetch Data"
   ]
  },
  {
   "cell_type": "code",
   "execution_count": 8,
   "metadata": {},
   "outputs": [
    {
     "name": "stdout",
     "output_type": "stream",
     "text": [
      "Getting data from Yahoo Finance...\n",
      "[*********************100%***********************]  485 of 485 completed\n",
      "\n",
      "4 Failed downloads:\n",
      "- FISV: No data found, symbol may be delisted\n",
      "- PKI: No data found, symbol may be delisted\n",
      "- SIVB: No data found, symbol may be delisted\n",
      "- FRC: No data found, symbol may be delisted\n"
     ]
    }
   ],
   "source": [
    "mean_returns, cov_matrix, prices = get_data(ticker_list, start_date, end_date)\n"
   ]
  },
  {
   "cell_type": "markdown",
   "metadata": {},
   "source": [
    "Process data and output"
   ]
  },
  {
   "cell_type": "code",
   "execution_count": 9,
   "metadata": {},
   "outputs": [
    {
     "name": "stdout",
     "output_type": "stream",
     "text": [
      "Processing data...\n"
     ]
    },
    {
     "name": "stdout",
     "output_type": "stream",
     "text": [
      "\n",
      "\n",
      "Maximimum Sharpe Ratio Portfolio\n",
      "Expected annualised return:  67.9 %\n",
      "Expected annualised volatility:  21.25 %\n",
      "Price of the portfolio:  303.05 USD\n",
      "      Weights\n",
      "CBOE     1.56\n",
      "GE      28.32\n",
      "LLY     35.31\n",
      "MPC      0.03\n",
      "NVDA     7.39\n",
      "PHM      9.11\n",
      "RCL     10.83\n",
      "REGN     2.89\n",
      "SLB      4.56\n"
     ]
    },
    {
     "data": {
      "image/png": "[encoded data removed]",
      "text/plain": [
       "<Figure size 1000x600 with 1 Axes>"
      ]
     },
     "metadata": {},
     "output_type": "display_data"
    },
    {
     "name": "stdout",
     "output_type": "stream",
     "text": [
      "\n",
      "\n",
      "Examples of possible combinations:\n",
      "    Annualised Volatility (%)  Annualised Returns (%)\n",
      "0                         0.0                    0.00\n",
      "1                         2.5                    7.99\n",
      "2                         5.0                   15.97\n",
      "3                         7.5                   23.96\n",
      "4                        10.0                   31.94\n",
      "5                        12.5                   39.93\n",
      "6                        15.0                   47.92\n",
      "7                        17.5                   55.90\n",
      "8                        20.0                   63.89\n",
      "9                        22.5                   71.87\n",
      "10                       25.0                   79.86\n",
      "11                       27.5                   87.85\n",
      "12                       30.0                   95.83\n",
      "13                       32.5                  103.82\n",
      "14                       35.0                  111.80\n",
      "15                       37.5                  119.79\n",
      "16                       40.0                  127.78\n"
     ]
    }
   ],
   "source": [
    "max_sr_return, slope, max_sr_price, df_sr = table_output(mean_returns, cov_matrix)"
   ]
  },
  {
   "cell_type": "markdown",
   "metadata": {},
   "source": [
    "## Part IV: Portfolio Composition with Risk-Free Asset"
   ]
  },
  {
   "cell_type": "markdown",
   "metadata": {},
   "source": [
    "Now, figure out what combination of the portfolio and the risk-free it will be."
   ]
  },
  {
   "cell_type": "code",
   "execution_count": 10,
   "metadata": {},
   "outputs": [
    {
     "name": "stdout",
     "output_type": "stream",
     "text": [
      "Target return: 10.0 % \n",
      "\n",
      "Corresponding volatility: 2.5 % \n",
      "\n",
      "The weights for the maximum Sharpe ratio portfolio: 0.85\n",
      "and the weights for the risk free asset: 0.15\n",
      "\n",
      "Budget:  100000 USD\n",
      "\n",
      "Allocation: \n",
      " Risk free asset:  15175.5 USD \n",
      " Max SR portfolio: 84824.5 USD \n",
      "\n",
      "Max SR portfolio breakdown:\n"
     ]
    },
    {
     "data": {
      "text/html": [
       "<div>\n",
       "<style scoped>\n",
       "    .dataframe tbody tr th:only-of-type {\n",
       "        vertical-align: middle;\n",
       "    }\n",
       "\n",
       "    .dataframe tbody tr th {\n",
       "        vertical-align: top;\n",
       "    }\n",
       "\n",
       "    .dataframe thead th {\n",
       "        text-align: right;\n",
       "    }\n",
       "</style>\n",
       "<table border=\"1\" class=\"dataframe\">\n",
       "  <thead>\n",
       "    <tr style=\"text-align: right;\">\n",
       "      <th></th>\n",
       "      <th>Weights (%)</th>\n",
       "      <th>Prices (USD)</th>\n",
       "      <th>Total invested (USD)</th>\n",
       "      <th>Number of Stocks</th>\n",
       "    </tr>\n",
       "    <tr>\n",
       "      <th>Stocks</th>\n",
       "      <th></th>\n",
       "      <th></th>\n",
       "      <th></th>\n",
       "      <th></th>\n",
       "    </tr>\n",
       "  </thead>\n",
       "  <tbody>\n",
       "    <tr>\n",
       "      <th>CBOE</th>\n",
       "      <td>1.56</td>\n",
       "      <td>150.12</td>\n",
       "      <td>1560.0</td>\n",
       "      <td>10.0</td>\n",
       "    </tr>\n",
       "    <tr>\n",
       "      <th>GE</th>\n",
       "      <td>28.32</td>\n",
       "      <td>111.79</td>\n",
       "      <td>28320.0</td>\n",
       "      <td>253.0</td>\n",
       "    </tr>\n",
       "    <tr>\n",
       "      <th>LLY</th>\n",
       "      <td>35.31</td>\n",
       "      <td>546.43</td>\n",
       "      <td>35310.0</td>\n",
       "      <td>65.0</td>\n",
       "    </tr>\n",
       "    <tr>\n",
       "      <th>MPC</th>\n",
       "      <td>0.03</td>\n",
       "      <td>144.62</td>\n",
       "      <td>30.0</td>\n",
       "      <td>0.0</td>\n",
       "    </tr>\n",
       "    <tr>\n",
       "      <th>NVDA</th>\n",
       "      <td>7.39</td>\n",
       "      <td>432.99</td>\n",
       "      <td>7390.0</td>\n",
       "      <td>17.0</td>\n",
       "    </tr>\n",
       "    <tr>\n",
       "      <th>PHM</th>\n",
       "      <td>9.11</td>\n",
       "      <td>79.30</td>\n",
       "      <td>9110.0</td>\n",
       "      <td>115.0</td>\n",
       "    </tr>\n",
       "    <tr>\n",
       "      <th>RCL</th>\n",
       "      <td>10.83</td>\n",
       "      <td>99.20</td>\n",
       "      <td>10830.0</td>\n",
       "      <td>109.0</td>\n",
       "    </tr>\n",
       "    <tr>\n",
       "      <th>REGN</th>\n",
       "      <td>2.89</td>\n",
       "      <td>812.40</td>\n",
       "      <td>2890.0</td>\n",
       "      <td>4.0</td>\n",
       "    </tr>\n",
       "    <tr>\n",
       "      <th>SLB</th>\n",
       "      <td>4.56</td>\n",
       "      <td>58.03</td>\n",
       "      <td>4560.0</td>\n",
       "      <td>79.0</td>\n",
       "    </tr>\n",
       "  </tbody>\n",
       "</table>\n",
       "</div>"
      ],
      "text/plain": [
       "        Weights (%)  Prices (USD)  Total invested (USD)  Number of Stocks\n",
       "Stocks                                                                   \n",
       "CBOE           1.56        150.12                1560.0              10.0\n",
       "GE            28.32        111.79               28320.0             253.0\n",
       "LLY           35.31        546.43               35310.0              65.0\n",
       "MPC            0.03        144.62                  30.0               0.0\n",
       "NVDA           7.39        432.99                7390.0              17.0\n",
       "PHM            9.11         79.30                9110.0             115.0\n",
       "RCL           10.83         99.20               10830.0             109.0\n",
       "REGN           2.89        812.40                2890.0               4.0\n",
       "SLB            4.56         58.03                4560.0              79.0"
      ]
     },
     "execution_count": 10,
     "metadata": {},
     "output_type": "execute_result"
    }
   ],
   "source": [
    "if is_demo:    \n",
    "    #target_return = float(input(\"Please enter the target return in %: \"))/100\n",
    "    target_return = 0.10\n",
    "    print(f\"Target return: {round(100*target_return,2)} % \\n\")\n",
    "    target_volatility = (target_return - risk_free_rate)/slope\n",
    "    print(f\"Corresponding volatility: {round(100*target_volatility,2)} % \\n\")\n",
    "else:\n",
    "    # There are two ways to approach this. Either we can ask for target volatility or we can ask for target return.\n",
    "    ans= input(\"Do you want to enter target volatility (1) or target return (2)? \")\n",
    "    while ans!= \"1\" and ans!= \"2\": ans= input(\"Please enter 1 or 2. Do you want to enter target volatility (1) or target return (2)? \")\n",
    "\n",
    "    if ans== \"1\":\n",
    "        target_volatility = float(input(\"Please enter the target volatility in %: \"))/100\n",
    "        print(f\"Target volatility: {round(100*target_volatility,2)} % \\n\")\n",
    "        target_return = risk_free_rate + target_volatility*slope\n",
    "        print(f\"Corresponding return: {round(100*target_return,2)} % \\n\")\n",
    "    else:\n",
    "        target_return = float(input(\"Please enter the target return in %: \"))/100\n",
    "        print(f\"Target return: {round(100*target_return,2)} % \\n\")\n",
    "        target_volatility = (target_return - risk_free_rate)/slope\n",
    "        print(f\"Corresponding volatility: {round(100*target_volatility,2)} % \\n\")\n",
    "\n",
    "part_rf= target_return/(max_sr_return-risk_free_rate)\n",
    "part_max_sr= 1-part_rf\n",
    "print(f\"The weights for the maximum Sharpe ratio portfolio: {round(part_max_sr,2)}\\nand the weights for the risk free asset: {round(1-round(part_max_sr,2),2)}\\n\")\n",
    "\n",
    "print('Budget: ', round(budget,2),\"USD\\n\")\n",
    "print(f'Allocation: \\n Risk free asset:  {round((1-part_max_sr)*budget,2)} USD \\n Max SR portfolio: {round(part_max_sr*budget,2)} USD ')\n",
    "\n",
    "df_prices_l=pd.DataFrame(np.round(prices[df_sr.index.tolist()].values.T,2),index=prices[df_sr.index.tolist()].T.index,columns=['Prices (USD)'])\n",
    "df_total=pd.DataFrame(np.round(budget*df_sr['Weights']/100,2))\n",
    "df_num_stocks=pd.DataFrame(np.round(df_total.values/df_prices_l.values,0),index=df_total.index)\n",
    "df_target= pd.concat([df_sr,df_prices_l,df_total,df_num_stocks],axis=1)\n",
    "df_target.index.name='Stocks'\n",
    "df_target.columns=['Weights (%)','Prices (USD)','Total invested (USD)','Number of Stocks']\n",
    "\n",
    "print(\"\\nMax SR portfolio breakdown:\")\n",
    "df_target"
   ]
  }
 ],
 "metadata": {
  "kernelspec": {
   "display_name": "base",
   "language": "python",
   "name": "python3"
  },
  "language_info": {
   "codemirror_mode": {
    "name": "ipython",
    "version": 3
   },
   "file_extension": ".py",
   "mimetype": "text/x-python",
   "name": "python",
   "nbconvert_exporter": "python",
   "pygments_lexer": "ipython3",
   "version": "3.11.3"
  },
  "orig_nbformat": 4,
  "vscode": {
   "interpreter": {
    "hash": "b68ca19c0df0760c1787e20c3f0dd1e5f78c535cd246ff2eb4732394cfca7b12"
   }
  }
 },
 "nbformat": 4,
 "nbformat_minor": 2
}
