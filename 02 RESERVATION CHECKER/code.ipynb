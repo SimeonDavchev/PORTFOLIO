{
 "cells": [
  {
   "cell_type": "markdown",
   "id": "e12dce08",
   "metadata": {},
   "source": [
    "# Reservation Checker Automation Project\n",
    "\n",
    "## Part I: Introduction and remarks\n",
    "\n",
    "This notebook is designed to automate the process of checking and managing reservations from various platforms like Booking.com, Expedia, and our website. It processes reservation data and payment reports to compare them based on different factors like if both are cancelled, if prices + refunds match between platforms etc.\n",
    "\n",
    "Code was build on 11.3.1\n",
    "\n",
    "Confidentiality NOTE: \n",
    "To prevent any possible information being shared files are kept at a different location and the file paths will be kept under .gitignore and only read from the variable paths but never displayed. Also in the future all seeds and some functions will be kept like that."
   ]
  },
  {
   "cell_type": "markdown",
   "id": "05c8bd61",
   "metadata": {},
   "source": [
    "## Part II: Data Import and Preprocessing"
   ]
  },
  {
   "cell_type": "code",
   "execution_count": 1,
   "metadata": {},
   "outputs": [],
   "source": [
    "import os\n",
    "import glob\n",
    "import pandas as pd"
   ]
  },
  {
   "cell_type": "code",
   "execution_count": 2,
   "metadata": {},
   "outputs": [],
   "source": [
    "# Get the folder path from the hidden text file\n",
    "with open('paths.txt') as f:\n",
    "    paths = f.readlines()\n",
    "folder_path = paths[0].strip()"
   ]
  },
  {
   "cell_type": "code",
   "execution_count": 3,
   "metadata": {},
   "outputs": [],
   "source": [
    "#Import and run functions to fetch the data \n",
    "from hidden_functions import booking_api, expedia_api, mews_api\n",
    "\n",
    "# This can be requested from the user but for the sake of example we will hard code it\n",
    "start_date = '2023-04-01'\n",
    "end_date = '2023-04-31'\n",
    "path_to_save = folder_path\n",
    "\n",
    "# Delete the folder if it already exists\n",
    "try:\n",
    "    os.rmdir(path_to_save)\n",
    "except:\n",
    "    pass\n",
    "\n",
    "# Use the functions to get the data and put it in the new data in the folder \n",
    "booking_api(start_date, end_date, path_to_save)\n",
    "expedia_api(start_date, end_date, path_to_save)\n",
    "mews_api(start_date, end_date, path_to_save)"
   ]
  },
  {
   "cell_type": "code",
   "execution_count": 4,
   "metadata": {},
   "outputs": [],
   "source": [
    "# Iterate over files in the folder\n",
    "files = []\n",
    "for file_path in glob.glob(folder_path):\n",
    "    # Extract the file name from the file path\n",
    "    file_name = file_path.split('/')[-1]\n",
    "    \n",
    "    # Add the file name and creation time to the list\n",
    "    files.append(file_name)\n",
    "\n",
    "    # Separate them based on file name,do already cleaning and output only useful columns\n",
    "    if file_name[0:3] == 'res': #that would mean expendia \n",
    "        dt_exp = pd.read_csv(file_path)\n",
    "    elif file_name[0:3] == 'Res': #that would mean our own website\n",
    "        excel_full= pd.ExcelFile(file_path)\n",
    "        dt_our1 = pd.read_excel(excel_full, 'Reservations')\n",
    "        dt_our2 = pd.read_excel(excel_full, 'Nights')\n",
    "        dt_our2.drop(['Identifier','Assigned space','Customer'],axis=1,inplace=True)\n",
    "        # we do this slight juggle so that we can sum the nights per reservation but we will need the number later\n",
    "        dt_our2.set_index('Number',inplace=True)\n",
    "        dt_our2=pd.DataFrame(dt_our2.sum(axis=1))\n",
    "        dt_our2.reset_index(inplace=True)\n",
    "        dt_our1= dt_our1[['Number','Last name','First name','Status','Count (nights)','Person count','Rate','Count (bed, nightly)','Group channel manager ID','Group channel confirmation number']]\n",
    "        #print(dt_our1.tail(5))\n",
    "        dt_our1.drop(dt_our1.tail(1).index,inplace=True) #drop the last row as it is totals\n",
    "        dt_our1['Number']=dt_our1['Number'].astype('int')\n",
    "        dt_our= dt_our2.merge(dt_our1,how='right',left_on='Number',right_on='Number')\n",
    "        dt_our.rename(columns={0:'Total price'},inplace=True)\n",
    "    elif file_name[0:3]==\"Pay\": #this is a payment report, so that we can look at refunds \n",
    "        excel_full_pay = pd.ExcelFile(file_path)\n",
    "        dt_pay = pd.read_excel(excel_full_pay, 'Card payments')\n",
    "        dt_pay=dt_pay[['Customer','Bill','Payment card','Type','Value']]\n",
    "        #drop totals row\n",
    "        dt_pay.drop(dt_pay.tail(1).index,inplace=True)\n",
    "        #filter for non-significant refunds\n",
    "        dt_pay.drop(dt_pay[dt_pay['Value'].astype(int)>-99].index,inplace=True)\n",
    "    else: #this is booking.com\n",
    "        dt_bdc= pd.read_excel(file_path)\n",
    "        dt_bdc['is_cancelled']=~(dt_bdc['Status'].str.contains('ok',case=False))*1\n",
    "        dt_bdc.loc[:,'Prijs'] = dt_bdc['Prijs'].str.replace('EUR', '').astype('float')\n",
    "        dt_bdc.loc[:,'Prijs'] = -1*dt_bdc['Prijs']* (dt_bdc['is_cancelled']-1)\n",
    "        dt_bdc=dt_bdc[['Boekingsnummer','Naam gast(en)','Prijs','is_cancelled',\"Status\"]]\n",
    "        \n",
    "# Print the list of file names that were processed \n",
    "#print(files)"
   ]
  },
  {
   "attachments": {},
   "cell_type": "markdown",
   "metadata": {},
   "source": [
    "Split the dataset from our website into Booking.com, Expedia (and all in their affiliate network), Hotel Tonight and our own"
   ]
  },
  {
   "cell_type": "code",
   "execution_count": 5,
   "metadata": {},
   "outputs": [],
   "source": [
    "#first combine names as this is what we will need to merge with the payment report \n",
    "dt_our['full_name']= dt_our['First name']+' '+dt_our['Last name']\n",
    "\n",
    "#calculate and add BF as otherwise when we sum accross duplicates we will lose the BF\n",
    "dt_our['had_bf']=(dt_our['Rate'].str.contains('Including Breakfast'))*1\n",
    "dt_our['breakfast_cost']=dt_our['had_bf']*dt_our['Count (bed, nightly)']*25\n",
    "dt_our['price_vat']=dt_our['Total price']+dt_our['breakfast_cost']\n",
    "dt_our['tourist_fee']=dt_our['Count (bed, nightly)']*3\n",
    "\n",
    "# Create a new column 'total_price'\n",
    "dt_our[['Total price','total_price','total_breakfast']] = dt_our.groupby('full_name')[['Total price','price_vat','breakfast_cost']].transform('sum')\n",
    "dt_check=dt_our[['full_name','price_vat','total_price','total_breakfast']] \n",
    "#I am aware that naming is a bit confusing but it is working, so in good coding fashion I will leave it as is"
   ]
  },
  {
   "cell_type": "markdown",
   "metadata": {},
   "source": [
    "Some people have multiple reservations and to compare reliably we need to sum them and remove the duplicates "
   ]
  },
  {
   "cell_type": "code",
   "execution_count": 6,
   "metadata": {},
   "outputs": [],
   "source": [
    "# Create a new column 'Total_price_vat' to store the aggregated 'price_vat' values\n",
    "dt_our['price_vat'] = dt_our.groupby('full_name')['price_vat'].transform('sum')\n",
    "\n",
    "# Drop the duplicated entries and keep the first occurrence\n",
    "dt_our.drop_duplicates(subset='Group channel confirmation number', keep='first', inplace=True)\n",
    "dt_our=dt_our.merge(dt_pay,how='left',left_on='full_name',right_on='Customer')\n",
    "dt_our['price_vat + refund']=dt_our['price_vat']+(dt_our['Value'].fillna(0))"
   ]
  },
  {
   "cell_type": "markdown",
   "id": "715e5c4c",
   "metadata": {},
   "source": [
    "## Part III: Data Analysis and Transformation"
   ]
  },
  {
   "cell_type": "markdown",
   "metadata": {},
   "source": [
    "Calculate appropriate prices for our website to make them comparible with Booking and Expedia."
   ]
  },
  {
   "cell_type": "code",
   "execution_count": 7,
   "metadata": {},
   "outputs": [],
   "source": [
    "dt_our.loc[dt_our['price_vat'].isna(), 'price_vat'] = -100000000\n",
    "dt_our['price_bdc']=(dt_our['price_vat']*(1.17 / 1.09)+dt_our['tourist_fee']).round(2)\n",
    "dt_our.loc[dt_our['price_bdc'] < 0, ['price_vat', 'price_vat + refund', 'price_bdc','Total price']] = 0\n",
    "dt_our['is_cancelled']=dt_our['Status'].str.contains('Canceled')*1\n",
    "dt_our.loc[dt_our['is_cancelled']==1, ['price_vat', 'price_vat + refund', 'price_bdc']] = 0"
   ]
  },
  {
   "cell_type": "markdown",
   "metadata": {},
   "source": [
    "There was a problem with the confirmation number on some of the reservations as it had some weird artefacts, so we trim them."
   ]
  },
  {
   "cell_type": "code",
   "execution_count": 8,
   "metadata": {},
   "outputs": [],
   "source": [
    "dt_our['Group channel confirmation number']=dt_our['Group channel confirmation number'].fillna(0)\n",
    "dt_our['Group channel confirmation number']=dt_our['Group channel confirmation number'].astype('str')\n",
    "dt_our.loc[dt_our['Group channel confirmation number'].str.len() > 10, 'Group channel confirmation number'] = dt_our['Group channel confirmation number'].str[0:9]\n",
    "dt_our['Group channel manager ID']=dt_our['Group channel manager ID'].fillna('OUR')\n",
    "dt_our= dt_our[['Number','Group channel confirmation number','Group channel manager ID','full_name','Status','is_cancelled','breakfast_cost','tourist_fee','Total price','price_vat + refund','Value','price_vat','price_bdc']]"
   ]
  },
  {
   "cell_type": "markdown",
   "metadata": {},
   "source": [
    "Now we can split the data from our website into 4 different datasets based on where the reservation came from."
   ]
  },
  {
   "cell_type": "code",
   "execution_count": 9,
   "metadata": {},
   "outputs": [],
   "source": [
    "dt_our_bdc = dt_our[dt_our['Group channel manager ID'].str.startswith('BDC')]\n",
    "dt_our_exp = dt_our[dt_our['Group channel manager ID'].str.startswith('EXP')]\n",
    "dt_our_htn= dt_our[dt_our['Group channel manager ID'].str.startswith('HTN')] #not sure if i will need the last two\n",
    "dt_our_our = dt_our[dt_our['Group channel manager ID'].str.startswith('OUR')]"
   ]
  },
  {
   "cell_type": "markdown",
   "metadata": {},
   "source": [
    "### Booking.com"
   ]
  },
  {
   "cell_type": "code",
   "execution_count": 10,
   "metadata": {},
   "outputs": [],
   "source": [
    "dt_our_bdc.loc[:,'Group channel confirmation number']=dt_our_bdc['Group channel confirmation number'].astype(float)"
   ]
  },
  {
   "cell_type": "code",
   "execution_count": 11,
   "metadata": {},
   "outputs": [],
   "source": [
    "df_merged_our_bdc = dt_our_bdc.merge(dt_bdc,how='outer',left_on='Group channel confirmation number',right_on='Boekingsnummer')"
   ]
  },
  {
   "cell_type": "markdown",
   "metadata": {},
   "source": [
    "Now we output a table with the reservations for which the price with the refund substracted does not match the price in Booking."
   ]
  },
  {
   "cell_type": "code",
   "execution_count": 12,
   "metadata": {},
   "outputs": [],
   "source": [
    "#df_merged_our_bdc.loc[df_merged_our_bdc['price_vat + refund']!=df_merged_our_bdc['Prijs'], ['Number','Group channel confirmation number','full_name','is_cancelled_x','is_cancelled_y','price_vat','price_vat + refund','Value',\"Prijs\",'breakfast_cost','tourist_fee','Boekingsnummer','Naam gast(en)']]"
   ]
  },
  {
   "cell_type": "markdown",
   "metadata": {},
   "source": [
    "Reservations which are cancelled in one website but not the other."
   ]
  },
  {
   "cell_type": "code",
   "execution_count": 13,
   "metadata": {},
   "outputs": [],
   "source": [
    "#df_merged_our_bdc.loc[df_merged_our_bdc['is_cancelled_x']!=df_merged_our_bdc['is_cancelled_y'], ['Number','Group channel confirmation number','full_name','is_cancelled_x','is_cancelled_y','price_vat',\"Prijs\",'breakfast_cost','tourist_fee','Boekingsnummer','Naam gast(en)']]"
   ]
  },
  {
   "cell_type": "markdown",
   "metadata": {},
   "source": [
    "### Expedia "
   ]
  },
  {
   "attachments": {},
   "cell_type": "markdown",
   "metadata": {},
   "source": [
    "Now lets do the same for Expedia "
   ]
  },
  {
   "cell_type": "code",
   "execution_count": 14,
   "metadata": {},
   "outputs": [],
   "source": [
    "dt_exp['is_cancelled']=dt_exp['Status'].str.contains('cancelled')*1\n",
    "dt_exp['Bevestigingsnr.2']=dt_exp['Bevestigingsnr.'].str[4:].astype(float)\n",
    "dt_exp= dt_exp[['Gast','Boekingsbedrag','Bevestigingsnr.','Bevestigingsnr.2','is_cancelled']]\n",
    "dt_our_exp.loc[:,'Group channel confirmation number']=dt_our_exp['Group channel confirmation number'].astype(float)\n",
    "df_merged_our_exp = dt_our_exp.merge(dt_exp,how='outer',left_on='Group channel confirmation number',right_on='Bevestigingsnr.2')"
   ]
  },
  {
   "cell_type": "code",
   "execution_count": 15,
   "metadata": {},
   "outputs": [],
   "source": [
    "#df_merged_our_exp.loc[df_merged_our_exp['price_vat + refund'].round(2)!=df_merged_our_exp['Boekingsbedrag'], ['Number','Group channel confirmation number','full_name','is_cancelled_x','is_cancelled_y','price_vat + refund','Value',\"Boekingsbedrag\",'breakfast_cost','tourist_fee','Gast']]"
   ]
  },
  {
   "cell_type": "code",
   "execution_count": 16,
   "metadata": {},
   "outputs": [],
   "source": [
    "#df_merged_our_exp.loc[df_merged_our_exp['is_cancelled_x']!=df_merged_our_exp['is_cancelled_y'], ['Number','Group channel confirmation number','full_name','is_cancelled_x','is_cancelled_y','price_vat','Total price',\"Boekingsbedrag\",'breakfast_cost','tourist_fee','Gast']]"
   ]
  },
  {
   "cell_type": "markdown",
   "metadata": {},
   "source": [
    "As there are not that many reservation mismatches the rest is double-checked and adjusted by hand, as it cannot be done with the API."
   ]
  }
 ],
 "metadata": {
  "kernelspec": {
   "display_name": "Python 3",
   "language": "python",
   "name": "python3"
  },
  "language_info": {
   "codemirror_mode": {
    "name": "ipython",
    "version": 3
   },
   "file_extension": ".py",
   "mimetype": "text/x-python",
   "name": "python",
   "nbconvert_exporter": "python",
   "pygments_lexer": "ipython3",
   "version": "3.11.3"
  }
 },
 "nbformat": 4,
 "nbformat_minor": 2
}
